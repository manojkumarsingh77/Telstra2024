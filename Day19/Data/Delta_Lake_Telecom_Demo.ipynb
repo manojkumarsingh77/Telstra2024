{
 "cells": [
  {
   "cell_type": "markdown",
   "id": "6094161c",
   "metadata": {},
   "source": [
    "# Delta Lake in Telecom Domain: Call Detail Records (CDR)"
   ]
  },
  {
   "cell_type": "markdown",
   "id": "2217ac98",
   "metadata": {},
   "source": [
    "In this notebook, we will monitor call detail records in a telecom environment using managed and external Delta tables."
   ]
  },
  {
   "cell_type": "markdown",
   "id": "a100cb04",
   "metadata": {},
   "source": [
    "### Step 1: Create Schema"
   ]
  },
  {
   "cell_type": "code",
   "execution_count": null,
   "id": "f5b8b0ec",
   "metadata": {},
   "outputs": [],
   "source": [
    "\n",
    "# Create a schema for telecom data\n",
    "spark.sql(\"\"\"CREATE SCHEMA IF NOT EXISTS telecom_default_location;\"\"\")\n"
   ]
  },
  {
   "cell_type": "markdown",
   "id": "3988693a",
   "metadata": {},
   "source": [
    "### Step 2: Describe Schema"
   ]
  },
  {
   "cell_type": "code",
   "execution_count": null,
   "id": "847d735a",
   "metadata": {},
   "outputs": [],
   "source": [
    "\n",
    "# Describe the schema\n",
    "spark.sql(\"\"\"DESCRIBE SCHEMA EXTENDED telecom_default_location;\"\"\")\n"
   ]
  },
  {
   "cell_type": "markdown",
   "id": "07131e9f",
   "metadata": {},
   "source": [
    "### Step 3: Create Managed Table"
   ]
  },
  {
   "cell_type": "code",
   "execution_count": null,
   "id": "100146a3",
   "metadata": {},
   "outputs": [],
   "source": [
    "\n",
    "# Create a managed table to store call detail records (CDR)\n",
    "spark.sql(\"\"\"\n",
    "USE telecom_default_location;\n",
    "\n",
    "CREATE OR REPLACE TABLE managed_table (\n",
    "    call_id INT,\n",
    "    caller_id STRING,\n",
    "    recipient_id STRING,\n",
    "    call_duration INT,\n",
    "    call_time TIMESTAMP\n",
    ");\n",
    "\n",
    "INSERT INTO managed_table VALUES \n",
    "(1, '12345', '67890', 300, '2024-09-12 10:00:00'),\n",
    "(2, '54321', '09876', 150, '2024-09-12 10:15:00');\n",
    "\n",
    "SELECT * FROM managed_table;\n",
    "\"\"\")\n"
   ]
  },
  {
   "cell_type": "markdown",
   "id": "ff512292",
   "metadata": {},
   "source": [
    "### Step 4: Describe Managed Table"
   ]
  },
  {
   "cell_type": "code",
   "execution_count": null,
   "id": "2aea6a38",
   "metadata": {},
   "outputs": [],
   "source": [
    "\n",
    "# Describe the managed table to get more information\n",
    "spark.sql(\"\"\"DESCRIBE EXTENDED managed_table;\"\"\")\n"
   ]
  },
  {
   "cell_type": "markdown",
   "id": "c499ade5",
   "metadata": {},
   "source": [
    "### Step 5: Check Table Location"
   ]
  },
  {
   "cell_type": "code",
   "execution_count": null,
   "id": "47ab4521",
   "metadata": {},
   "outputs": [],
   "source": [
    "\n",
    "# Python code to get the location of the managed table\n",
    "tbl_location = spark.sql(\"DESCRIBE DETAIL managed_table\").first().location\n",
    "print(tbl_location)\n",
    "files = dbutils.fs.ls(tbl_location)\n",
    "display(files)\n"
   ]
  },
  {
   "cell_type": "markdown",
   "id": "955800df",
   "metadata": {},
   "source": [
    "### Step 6: Drop the Managed Table"
   ]
  },
  {
   "cell_type": "code",
   "execution_count": null,
   "id": "4f23a1ce",
   "metadata": {},
   "outputs": [],
   "source": [
    "\n",
    "# Drop the managed table\n",
    "spark.sql(\"DROP TABLE managed_table;\")\n"
   ]
  },
  {
   "cell_type": "markdown",
   "id": "c0871d6c",
   "metadata": {},
   "source": [
    "### Step 7: Create External Table"
   ]
  },
  {
   "cell_type": "code",
   "execution_count": null,
   "id": "fa14f38f",
   "metadata": {},
   "outputs": [],
   "source": [
    "\n",
    "# Create an external table using the provided CSV data\n",
    "spark.sql(\"\"\"\n",
    "USE telecom_default_location;\n",
    "\n",
    "CREATE OR REPLACE TEMPORARY VIEW temp_call_delays\n",
    "USING CSV \n",
    "OPTIONS (\n",
    "    path = '/mnt/data/telecom_call_delays.csv',\n",
    "    header = \"true\",\n",
    "    mode = \"FAILFAST\"\n",
    ");\n",
    "\n",
    "CREATE OR REPLACE TABLE external_table\n",
    "LOCATION '/mnt/data/external_table'\n",
    "AS SELECT * FROM temp_call_delays;\n",
    "\n",
    "SELECT * FROM external_table;\n",
    "\"\"\")\n"
   ]
  },
  {
   "cell_type": "markdown",
   "id": "2d0b412c",
   "metadata": {},
   "source": [
    "### Step 8: Describe External Table"
   ]
  },
  {
   "cell_type": "code",
   "execution_count": null,
   "id": "5ffefb1f",
   "metadata": {},
   "outputs": [],
   "source": [
    "\n",
    "# Describe the external table\n",
    "spark.sql(\"DESCRIBE EXTENDED external_table;\")\n"
   ]
  },
  {
   "cell_type": "markdown",
   "id": "45031c4c",
   "metadata": {},
   "source": [
    "### Step 9: Drop the External Table"
   ]
  },
  {
   "cell_type": "code",
   "execution_count": null,
   "id": "c7127941",
   "metadata": {},
   "outputs": [],
   "source": [
    "\n",
    "# Drop the external table\n",
    "spark.sql(\"DROP TABLE external_table;\")\n"
   ]
  },
  {
   "cell_type": "markdown",
   "id": "4d603ef9",
   "metadata": {},
   "source": [
    "### Step 10: Check External Data Location"
   ]
  },
  {
   "cell_type": "code",
   "execution_count": null,
   "id": "5fc7311c",
   "metadata": {},
   "outputs": [],
   "source": [
    "\n",
    "# Python code to check if the external data remains after dropping the table\n",
    "tbl_path = \"/mnt/data/external_table\"\n",
    "files = dbutils.fs.ls(tbl_path)\n",
    "display(files)\n"
   ]
  },
  {
   "cell_type": "markdown",
   "id": "40d182c5",
   "metadata": {},
   "source": [
    "### Step 11: Clean Up by Dropping the Schema"
   ]
  },
  {
   "cell_type": "code",
   "execution_count": null,
   "id": "ac40b869",
   "metadata": {},
   "outputs": [],
   "source": [
    "\n",
    "# Drop the schema to clean up\n",
    "spark.sql(\"DROP SCHEMA telecom_default_location CASCADE;\")\n"
   ]
  }
 ],
 "metadata": {},
 "nbformat": 4,
 "nbformat_minor": 5
}
