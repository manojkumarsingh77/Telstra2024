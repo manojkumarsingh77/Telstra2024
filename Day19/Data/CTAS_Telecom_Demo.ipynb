{
 "cells": [
  {
   "cell_type": "markdown",
   "id": "1c7b1afd",
   "metadata": {},
   "source": [
    "# CTAS in Telecom Domain: Call Logs Example"
   ]
  },
  {
   "cell_type": "markdown",
   "id": "1273eee2",
   "metadata": {},
   "source": [
    "In this notebook, we will work with telecom call logs and perform various operations using CTAS (Create Table As Select), transformations, constraints, and cloning."
   ]
  },
  {
   "cell_type": "markdown",
   "id": "3628fc2a",
   "metadata": {},
   "source": [
    "### Step 1: Create Schema"
   ]
  },
  {
   "cell_type": "code",
   "execution_count": null,
   "id": "60b6f50e",
   "metadata": {},
   "outputs": [],
   "source": [
    "\n",
    "# Create a schema for telecom data\n",
    "spark.sql(\"\"\"CREATE SCHEMA IF NOT EXISTS telecom_ctas;\"\"\")\n",
    "    "
   ]
  },
  {
   "cell_type": "markdown",
   "id": "d53b7551",
   "metadata": {},
   "source": [
    "### Step 2: Create a Managed Table with CTAS"
   ]
  },
  {
   "cell_type": "code",
   "execution_count": null,
   "id": "085cf8ca",
   "metadata": {},
   "outputs": [],
   "source": [
    "\n",
    "# Create a managed table using the telecom call logs\n",
    "spark.sql(\"\"\"\n",
    "CREATE OR REPLACE TABLE telecom_ctas.call_logs AS\n",
    "SELECT * FROM csv.`/mnt/data/telecom_call_logs.csv`;\n",
    "\"\"\")\n",
    "    "
   ]
  },
  {
   "cell_type": "markdown",
   "id": "1ef3172e",
   "metadata": {},
   "source": [
    "### Step 3: Rename and Filter Columns"
   ]
  },
  {
   "cell_type": "code",
   "execution_count": null,
   "id": "16e8b259",
   "metadata": {},
   "outputs": [],
   "source": [
    "\n",
    "# Rename and filter columns while creating a new table\n",
    "spark.sql(\"\"\"\n",
    "CREATE OR REPLACE TABLE telecom_ctas.filtered_logs AS\n",
    "SELECT Call_ID AS id, Call_Duration AS duration, Call_Time AS call_time\n",
    "FROM telecom_ctas.call_logs;\n",
    "\"\"\")\n",
    "    "
   ]
  },
  {
   "cell_type": "markdown",
   "id": "50a2f4e1",
   "metadata": {},
   "source": [
    "### Step 4: Add Generated Columns"
   ]
  },
  {
   "cell_type": "code",
   "execution_count": null,
   "id": "035d4aa0",
   "metadata": {},
   "outputs": [],
   "source": [
    "\n",
    "# Create a table with a generated column that calculates the call date\n",
    "spark.sql(\"\"\"\n",
    "CREATE OR REPLACE TABLE telecom_ctas.generated_logs (\n",
    "  id INT,\n",
    "  duration INT,\n",
    "  call_time TIMESTAMP,\n",
    "  call_date DATE GENERATED ALWAYS AS (CAST(call_time AS DATE)) COMMENT 'Generated from call_time'\n",
    ");\n",
    "\"\"\")\n",
    "    "
   ]
  },
  {
   "cell_type": "markdown",
   "id": "d80119ab",
   "metadata": {},
   "source": [
    "### Step 5: Add Constraints"
   ]
  },
  {
   "cell_type": "code",
   "execution_count": null,
   "id": "c9639bb8",
   "metadata": {},
   "outputs": [],
   "source": [
    "\n",
    "# Add a CHECK constraint to ensure that the call_date is greater than a specific date\n",
    "spark.sql(\"\"\"\n",
    "ALTER TABLE telecom_ctas.generated_logs ADD CONSTRAINT valid_date CHECK (call_date > '2020-01-01');\n",
    "\"\"\")\n",
    "    "
   ]
  },
  {
   "cell_type": "markdown",
   "id": "ae528c5a",
   "metadata": {},
   "source": [
    "### Step 6: Enrich Table with Metadata"
   ]
  },
  {
   "cell_type": "code",
   "execution_count": null,
   "id": "099ef087",
   "metadata": {},
   "outputs": [],
   "source": [
    "\n",
    "# Create a table with additional metadata and partitioning by call_date\n",
    "spark.sql(\"\"\"\n",
    "CREATE OR REPLACE TABLE telecom_ctas.enriched_logs\n",
    "COMMENT 'Enriched table with partitioning and metadata'\n",
    "PARTITIONED BY (call_date)\n",
    "AS SELECT id, duration, call_time, call_date FROM telecom_ctas.generated_logs;\n",
    "\"\"\")\n",
    "    "
   ]
  },
  {
   "cell_type": "markdown",
   "id": "81ff3b22",
   "metadata": {},
   "source": [
    "### Step 7: Clone the Table"
   ]
  },
  {
   "cell_type": "code",
   "execution_count": null,
   "id": "c26eb257",
   "metadata": {},
   "outputs": [],
   "source": [
    "\n",
    "# Create a shallow clone of the enriched_logs table\n",
    "spark.sql(\"\"\"\n",
    "CREATE OR REPLACE TABLE telecom_ctas.enriched_logs_clone SHALLOW CLONE telecom_ctas.enriched_logs;\n",
    "\"\"\")\n",
    "    "
   ]
  },
  {
   "cell_type": "markdown",
   "id": "4d733c16",
   "metadata": {},
   "source": [
    "### Step 8: Cleanup"
   ]
  },
  {
   "cell_type": "code",
   "execution_count": null,
   "id": "2bfe69c0",
   "metadata": {},
   "outputs": [],
   "source": [
    "\n",
    "# Cleanup: Drop the schema and all tables within it\n",
    "spark.sql(\"\"\"DROP SCHEMA telecom_ctas CASCADE;\"\"\")\n",
    "    "
   ]
  }
 ],
 "metadata": {},
 "nbformat": 4,
 "nbformat_minor": 5
}
